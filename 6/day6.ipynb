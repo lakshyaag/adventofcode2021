{
 "cells": [
  {
   "cell_type": "code",
   "execution_count": 1,
   "metadata": {},
   "outputs": [],
   "source": [
    "import pandas as pd\n",
    "from collections import Counter"
   ]
  },
  {
   "cell_type": "code",
   "execution_count": 2,
   "metadata": {},
   "outputs": [],
   "source": [
    "def sim_pop(n_days, init_pop):\n",
    "    \n",
    "    ages = [init_pop.get(age, 0) for age in range(9)]\n",
    "    \n",
    "    for day in range(n_days):\n",
    "        n_spawn = ages.pop(0)\n",
    "        ages[6] += n_spawn\n",
    "        ages.insert(8, n_spawn)\n",
    "    \n",
    "    return sum(ages)"
   ]
  },
  {
   "cell_type": "code",
   "execution_count": 3,
   "metadata": {},
   "outputs": [],
   "source": [
    "with open (\"day6.txt\") as f:\n",
    "    lines = f.read().split(\",\")"
   ]
  },
  {
   "cell_type": "code",
   "execution_count": 4,
   "metadata": {},
   "outputs": [],
   "source": [
    "population = Counter(map(int, lines))"
   ]
  },
  {
   "cell_type": "code",
   "execution_count": 5,
   "metadata": {},
   "outputs": [
    {
     "name": "stdout",
     "output_type": "stream",
     "text": [
      "Part 1: 354564\n"
     ]
    }
   ],
   "source": [
    "part_1 = sim_pop(80, population)\n",
    "print(f\"Part 1: {part_1}\")"
   ]
  },
  {
   "cell_type": "code",
   "execution_count": 6,
   "metadata": {},
   "outputs": [
    {
     "name": "stdout",
     "output_type": "stream",
     "text": [
      "Part 2: 1609058859115\n"
     ]
    }
   ],
   "source": [
    "part_2 = sim_pop(256, population)\n",
    "print(f\"Part 2: {part_2}\")"
   ]
  }
 ],
 "metadata": {
  "kernelspec": {
   "display_name": "Python 3",
   "language": "python",
   "name": "python3"
  },
  "language_info": {
   "codemirror_mode": {
    "name": "ipython",
    "version": 3
   },
   "file_extension": ".py",
   "mimetype": "text/x-python",
   "name": "python",
   "nbconvert_exporter": "python",
   "pygments_lexer": "ipython3",
   "version": "3.8.5"
  }
 },
 "nbformat": 4,
 "nbformat_minor": 4
}
