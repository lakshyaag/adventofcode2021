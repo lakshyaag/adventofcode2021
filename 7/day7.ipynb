{
 "cells": [
  {
   "cell_type": "code",
   "execution_count": 1,
   "metadata": {},
   "outputs": [],
   "source": [
    "import pandas as pd"
   ]
  },
  {
   "cell_type": "code",
   "execution_count": 2,
   "metadata": {},
   "outputs": [],
   "source": [
    "def natural_sum(n=1):\n",
    "    return (((n * (n + 1)) / 2))"
   ]
  },
  {
   "cell_type": "code",
   "execution_count": 3,
   "metadata": {},
   "outputs": [
    {
     "name": "stderr",
     "output_type": "stream",
     "text": [
      "c:\\users\\51522\\appdata\\local\\programs\\python\\python38-32\\lib\\site-packages\\numpy\\core\\numeric.py:2378: FutureWarning: elementwise comparison failed; returning scalar instead, but in the future will perform elementwise comparison\n",
      "  return bool(asarray(a1 == a2).all())\n"
     ]
    }
   ],
   "source": [
    "with open(\"day7.txt\") as f:\n",
    "    lines = f.read().split(\",\")\n",
    "    numbers = pd.Series(lines, dtype=int)"
   ]
  },
  {
   "cell_type": "code",
   "execution_count": 4,
   "metadata": {},
   "outputs": [
    {
     "data": {
      "text/plain": [
       "0      1101\n",
       "1         1\n",
       "2        29\n",
       "3        67\n",
       "4      1102\n",
       "       ... \n",
       "995     606\n",
       "996     488\n",
       "997     387\n",
       "998    1206\n",
       "999      51\n",
       "Length: 1000, dtype: int32"
      ]
     },
     "execution_count": 4,
     "metadata": {},
     "output_type": "execute_result"
    }
   ],
   "source": [
    "numbers"
   ]
  },
  {
   "cell_type": "code",
   "execution_count": 5,
   "metadata": {},
   "outputs": [
    {
     "name": "stdout",
     "output_type": "stream",
     "text": [
      "Minimum fuel for position 332: 357353\n"
     ]
    }
   ],
   "source": [
    "# Part 1\n",
    "fuel = [abs((numbers - x)).sum() for x in range(min(numbers), max(numbers))]\n",
    "\n",
    "print(f'Minimum fuel for position {fuel.index(min(fuel))}: {min(fuel)}')"
   ]
  },
  {
   "cell_type": "code",
   "execution_count": 6,
   "metadata": {},
   "outputs": [
    {
     "name": "stdout",
     "output_type": "stream",
     "text": [
      "Minimum fuel for position 489: 104,822,130\n"
     ]
    }
   ],
   "source": [
    "# Part 2\n",
    "fuel = [natural_sum(abs(numbers - x)).sum() for x in range(min(numbers), max(numbers))]\n",
    "\n",
    "print(f'Minimum fuel for position {fuel.index(min(fuel))}: {int(min(fuel)):,d}')"
   ]
  }
 ],
 "metadata": {
  "kernelspec": {
   "display_name": "Python 3",
   "language": "python",
   "name": "python3"
  },
  "language_info": {
   "codemirror_mode": {
    "name": "ipython",
    "version": 3
   },
   "file_extension": ".py",
   "mimetype": "text/x-python",
   "name": "python",
   "nbconvert_exporter": "python",
   "pygments_lexer": "ipython3",
   "version": "3.8.5"
  }
 },
 "nbformat": 4,
 "nbformat_minor": 4
}
