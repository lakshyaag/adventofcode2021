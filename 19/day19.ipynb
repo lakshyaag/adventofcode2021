{
 "cells": [
  {
   "cell_type": "code",
   "execution_count": 1,
   "metadata": {},
   "outputs": [],
   "source": [
    "import itertools\n",
    "import numpy as np\n",
    "from collections import defaultdict"
   ]
  },
  {
   "cell_type": "code",
   "execution_count": 2,
   "metadata": {},
   "outputs": [],
   "source": [
    "with open('day19.txt') as f:\n",
    "    lines = f.read().strip()\n",
    "    scanners = lines.split('\\n\\n')\n",
    "\n",
    "    scanner_list = []\n",
    "    for scan in scanners:\n",
    "        beacons = []\n",
    "        for line in scan.split('\\n'):\n",
    "            line = line.strip()\n",
    "            if line.startswith('--'):\n",
    "                continue\n",
    "            x, y, z = [int(v) for v in line.split(',')]\n",
    "            beacons.append((x, y, z))\n",
    "        scanner_list.append(beacons)"
   ]
  },
  {
   "cell_type": "code",
   "execution_count": 3,
   "metadata": {},
   "outputs": [],
   "source": [
    "def adjust(point, d):\n",
    "    ret = [point[0], point[1], point[2]]\n",
    "    for i, p in enumerate(list(itertools.permutations([0, 1, 2]))):\n",
    "        \n",
    "        # Change x,y,z position -> [x,y,z], [y,x,z], [y,z,x] ...\n",
    "        if d//8 == i:\n",
    "            ret = [ret[p[0]], ret[p[1]], ret[p[2]]]\n",
    "\n",
    "    if d % 2 == 1:\n",
    "        ret[0] *= -1 # [x, -x]\n",
    "    if (d//2) % 2 == 1:\n",
    "        ret[1] *= -1 # [y, -y]\n",
    "    if (d//4) % 2 == 1:\n",
    "        ret[2] *= -1 # [z, -z]\n",
    "    return ret"
   ]
  },
  {
   "cell_type": "code",
   "execution_count": 4,
   "metadata": {},
   "outputs": [],
   "source": [
    "def man_dist(p1, p2):\n",
    "    return np.abs(np.array(p1) - np.array(p2)).sum()"
   ]
  },
  {
   "cell_type": "code",
   "execution_count": 5,
   "metadata": {},
   "outputs": [],
   "source": [
    "FINAL = set(scanner_list[0])\n",
    "\n",
    "num_scanners = len(scanner_list)\n",
    "\n",
    "shifts = [None for _ in range(num_scanners)]\n",
    "shifts[0] = (0, 0, 0)"
   ]
  },
  {
   "cell_type": "code",
   "execution_count": 6,
   "metadata": {},
   "outputs": [],
   "source": [
    "g_scanners = set([0])\n",
    "b_scanners = set([x for x in range(1, num_scanners)])"
   ]
  },
  {
   "cell_type": "code",
   "execution_count": 7,
   "metadata": {},
   "outputs": [],
   "source": [
    "scanner_adj = {}\n",
    "for i in range(num_scanners):\n",
    "    for d in range(48):\n",
    "        scanner_adj[(i, d)] = [adjust(p, d) for p in scanner_list[i]]"
   ]
  },
  {
   "cell_type": "code",
   "execution_count": 8,
   "metadata": {},
   "outputs": [
    {
     "data": {
      "text/plain": [
       "1248"
      ]
     },
     "execution_count": 8,
     "metadata": {},
     "output_type": "execute_result"
    }
   ],
   "source": [
    "len(scanner_adj) # = num. of scanners * 48 possible directions"
   ]
  },
  {
   "cell_type": "code",
   "execution_count": 9,
   "metadata": {},
   "outputs": [
    {
     "name": "stdout",
     "output_type": "stream",
     "text": [
      "FOUND scanner #6 at coordinates: (8, 2, 1200)\n",
      "FOUND scanner #7 at coordinates: (1268, 109, 1120)\n",
      "FOUND scanner #10 at coordinates: (1248, 1282, 1274)\n",
      "FOUND scanner #11 at coordinates: (-1177, -38, 1141)\n",
      "FOUND scanner #4 at coordinates: (-2357, -31, 1149)\n",
      "FOUND scanner #2 at coordinates: (-2411, -1258, 1286)\n",
      "FOUND scanner #3 at coordinates: (-2467, 1174, 1308)\n",
      "FOUND scanner #5 at coordinates: (-2413, 1277, 8)\n",
      "FOUND scanner #1 at coordinates: (-3601, 1267, 49)\n",
      "FOUND scanner #8 at coordinates: (-1121, 1233, -69)\n",
      "FOUND scanner #9 at coordinates: (-1115, -1100, 1205)\n",
      "FOUND scanner #14 at coordinates: (-2493, 1196, -1281)\n",
      "FOUND scanner #15 at coordinates: (-3508, 1142, -1152)\n",
      "FOUND scanner #16 at coordinates: (-3679, 2498, 42)\n",
      "FOUND scanner #17 at coordinates: (-3659, 1211, 1246)\n",
      "FOUND scanner #18 at coordinates: (-2370, 1185, -2367)\n",
      "FOUND scanner #13 at coordinates: (-2336, 1296, -3507)\n",
      "FOUND scanner #19 at coordinates: (-3509, 7, -1141)\n",
      "FOUND scanner #20 at coordinates: (-1108, 1180, 1253)\n",
      "FOUND scanner #12 at coordinates: (-1127, 1150, 2387)\n",
      "FOUND scanner #22 at coordinates: (-1264, 104, 42)\n",
      "FOUND scanner #23 at coordinates: (-2344, -75, -1241)\n",
      "FOUND scanner #24 at coordinates: (1120, -1113, 1284)\n",
      "FOUND scanner #21 at coordinates: (1269, -1234, -74)\n",
      "FOUND scanner #25 at coordinates: (-1270, 2471, 2436)\n"
     ]
    }
   ],
   "source": [
    "# Part 1\n",
    "while b_scanners:\n",
    "    found = None\n",
    "    for b in b_scanners:\n",
    "        if found:\n",
    "            continue\n",
    "\n",
    "        g_scan = [tuple([p[0], p[1], p[2]]) for p in FINAL]\n",
    "        g_set = set(g_scan) # List of beacons found relative to scanner 0\n",
    "\n",
    "        for b_dir in range(48):\n",
    "            b_scan = scanner_adj[(b, b_dir)]\n",
    "            shift_list = defaultdict(int)\n",
    "            for bi in range(len(scanner_list[b])):\n",
    "                for gi in range(len(g_scan)):\n",
    "                    dx = -b_scan[bi][0] + g_scan[gi][0]\n",
    "                    dy = -b_scan[bi][1] + g_scan[gi][1]\n",
    "                    dz = -b_scan[bi][2] + g_scan[gi][2]\n",
    "                    shift_list[(dx, dy, dz)] += 1\n",
    "            for (dx, dy, dz), val in shift_list.items():\n",
    "                if val >= 12:\n",
    "                    shifts[b] = (dx, dy, dz) # Scanner location found relative to scanner 0 at (0,0,0)\n",
    "\n",
    "                    print(f'FOUND scanner #{b} at coordinates: ({dx}, {dy}, {dz})')\n",
    "\n",
    "                    for p in b_scan:\n",
    "                        FINAL.add(tuple([p[0] + dx, p[1]+dy, p[2]+dz])) # Add new beacons to FINAL list of beacons\n",
    "                    found = b\n",
    "\n",
    "    assert found\n",
    "    b_scanners.remove(found)\n",
    "    g_scanners.add(found)"
   ]
  },
  {
   "cell_type": "code",
   "execution_count": 10,
   "metadata": {},
   "outputs": [
    {
     "name": "stdout",
     "output_type": "stream",
     "text": [
      "Part 1: 313\n"
     ]
    }
   ],
   "source": [
    "print(f'Part 1: {len(FINAL)}')"
   ]
  },
  {
   "cell_type": "code",
   "execution_count": 11,
   "metadata": {},
   "outputs": [],
   "source": [
    "# Part 2\n",
    "distances = {}\n",
    "for p1, p2 in itertools.combinations(shifts, 2):\n",
    "    distances[(p1, p2)] = (man_dist(p1,p2))\n",
    "\n",
    "max_key = max(distances, key = distances.get)"
   ]
  },
  {
   "cell_type": "code",
   "execution_count": 12,
   "metadata": {},
   "outputs": [
    {
     "name": "stdout",
     "output_type": "stream",
     "text": [
      "Part 2: 10656 between (-2336, 1296, -3507) and (1120, -1113, 1284)\n"
     ]
    }
   ],
   "source": [
    "print(f'Part 2: {distances[max_key]} between {max_key[0]} and {max_key[1]}')"
   ]
  }
 ],
 "metadata": {
  "kernelspec": {
   "display_name": "Python 3",
   "language": "python",
   "name": "python3"
  },
  "language_info": {
   "codemirror_mode": {
    "name": "ipython",
    "version": 3
   },
   "file_extension": ".py",
   "mimetype": "text/x-python",
   "name": "python",
   "nbconvert_exporter": "python",
   "pygments_lexer": "ipython3",
   "version": "3.8.5"
  }
 },
 "nbformat": 4,
 "nbformat_minor": 4
}
