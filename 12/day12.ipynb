{
 "cells": [
  {
   "cell_type": "code",
   "execution_count": 1,
   "metadata": {},
   "outputs": [],
   "source": [
    "import networkx as nx\n",
    "\n",
    "with open('day12.txt') as f:\n",
    "    lines = f.read().split(\"\\n\")"
   ]
  },
  {
   "cell_type": "code",
   "execution_count": 2,
   "metadata": {},
   "outputs": [],
   "source": [
    "G = nx.Graph()\n",
    "\n",
    "for path in lines:\n",
    "    G.add_edge(*tuple(path.split(\"-\")))"
   ]
  },
  {
   "cell_type": "code",
   "execution_count": 3,
   "metadata": {},
   "outputs": [],
   "source": [
    "def path_finder(path, double=False):\n",
    "    if path[-1] == 'end':\n",
    "        yield path\n",
    "        \n",
    "    for x in G.neighbors(path[-1]):\n",
    "        used_double = double\n",
    "        if x == x.lower() and x in path:\n",
    "            if used_double:\n",
    "                continue\n",
    "            else:\n",
    "                if x in ('start', 'end'):\n",
    "                    continue\n",
    "                used_double = True\n",
    "        yield from path_finder(path + [x], used_double)"
   ]
  },
  {
   "cell_type": "code",
   "execution_count": 4,
   "metadata": {},
   "outputs": [
    {
     "name": "stdout",
     "output_type": "stream",
     "text": [
      "Part 1: 5874\n"
     ]
    }
   ],
   "source": [
    "# Part 1\n",
    "print(f\"Part 1: {len(list(path_finder(['start'], True)))}\")"
   ]
  },
  {
   "cell_type": "code",
   "execution_count": 5,
   "metadata": {},
   "outputs": [
    {
     "name": "stdout",
     "output_type": "stream",
     "text": [
      "Part 1: 153592\n"
     ]
    }
   ],
   "source": [
    "# Part 2\n",
    "print(f\"Part 1: {len(list(path_finder(['start'], False)))}\")"
   ]
  }
 ],
 "metadata": {
  "kernelspec": {
   "display_name": "Python 3",
   "language": "python",
   "name": "python3"
  },
  "language_info": {
   "codemirror_mode": {
    "name": "ipython",
    "version": 3
   },
   "file_extension": ".py",
   "mimetype": "text/x-python",
   "name": "python",
   "nbconvert_exporter": "python",
   "pygments_lexer": "ipython3",
   "version": "3.8.5"
  }
 },
 "nbformat": 4,
 "nbformat_minor": 4
}
