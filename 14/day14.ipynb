{
 "cells": [
  {
   "cell_type": "code",
   "execution_count": 1,
   "metadata": {},
   "outputs": [],
   "source": [
    "import collections as cl"
   ]
  },
  {
   "cell_type": "code",
   "execution_count": 2,
   "metadata": {},
   "outputs": [],
   "source": [
    "with open('day14.txt') as f:\n",
    "    lines = f.read().split(\"\\n\")\n",
    "    \n",
    "starting = lines[0]\n",
    "first_element = starting[0]\n",
    "\n",
    "rules = [rule.split(\" -> \") for rule in lines[2:]]\n",
    "insertion_dict = {x[0]: x[1] for x in rules}"
   ]
  },
  {
   "cell_type": "code",
   "execution_count": 3,
   "metadata": {},
   "outputs": [],
   "source": [
    "def get_polymer_diff(starting, steps):\n",
    "    \n",
    "    pairs = cl.Counter()\n",
    "    for idx in range(len(starting[:-1])):\n",
    "        \n",
    "        pairs[starting[idx:idx+2]] += 1\n",
    "\n",
    "    for i in range(steps):\n",
    "\n",
    "        _pairs = pairs\n",
    "        pairs = cl.Counter()\n",
    "        \n",
    "        for el in _pairs.keys():\n",
    "    \n",
    "            pairs[el[0] + insertion_dict[el]] += _pairs[el]\n",
    "            pairs[insertion_dict[el] + el[1]] += _pairs[el]\n",
    "\n",
    "    polymer = cl.Counter()\n",
    "        \n",
    "    polymer[first_element] = 1\n",
    "\n",
    "    for el, ct in pairs.items():\n",
    "        polymer[el[1]] += ct\n",
    "\n",
    "    return(polymer.most_common()[0][1] - polymer.most_common()[-1][1])"
   ]
  },
  {
   "cell_type": "code",
   "execution_count": 4,
   "metadata": {},
   "outputs": [
    {
     "name": "stdout",
     "output_type": "stream",
     "text": [
      "Part 1: 3306\n"
     ]
    }
   ],
   "source": [
    "# Part 1\n",
    "print(f'Part 1: {get_polymer_diff(starting, 10)}')"
   ]
  },
  {
   "cell_type": "code",
   "execution_count": 5,
   "metadata": {},
   "outputs": [
    {
     "name": "stdout",
     "output_type": "stream",
     "text": [
      "Part 2: 3760312702877\n"
     ]
    }
   ],
   "source": [
    "# Part 2\n",
    "print(f'Part 2: {get_polymer_diff(starting, 40)}')"
   ]
  }
 ],
 "metadata": {
  "kernelspec": {
   "display_name": "Python 3",
   "language": "python",
   "name": "python3"
  },
  "language_info": {
   "codemirror_mode": {
    "name": "ipython",
    "version": 3
   },
   "file_extension": ".py",
   "mimetype": "text/x-python",
   "name": "python",
   "nbconvert_exporter": "python",
   "pygments_lexer": "ipython3",
   "version": "3.8.5"
  }
 },
 "nbformat": 4,
 "nbformat_minor": 4
}
