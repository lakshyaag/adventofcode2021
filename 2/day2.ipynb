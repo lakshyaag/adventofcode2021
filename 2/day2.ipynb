{
 "cells": [
  {
   "cell_type": "code",
   "execution_count": 1,
   "metadata": {},
   "outputs": [],
   "source": [
    "import pandas as pd\n",
    "import numpy as np\n",
    "\n",
    "data = pd.read_csv('day2.csv')\n",
    "\n",
    "data_split = data['data'].str.split(expand=True).rename(columns = {0:\"direction\", 1: \"step\"})\n",
    "data_split['step'] = data_split['step'].astype(int)"
   ]
  },
  {
   "cell_type": "code",
   "execution_count": 2,
   "metadata": {},
   "outputs": [
    {
     "name": "stdout",
     "output_type": "stream",
     "text": [
      "Horizontal position: 2018\n",
      "Depth position: 820\n",
      "H * D: 1654760\n"
     ]
    }
   ],
   "source": [
    "## Part 1\n",
    "data_split['depth_value'] = np.select(\n",
    "    [\n",
    "        data_split['direction'] == \"up\",\n",
    "        data_split['direction'] == \"down\",\n",
    "    ],\n",
    "    [\n",
    "        -data_split['step'],\n",
    "        data_split['step'],\n",
    "    ]\n",
    ")\n",
    "\n",
    "hor_value = data_split[data_split['direction'] == \"forward\"]['step'].sum()\n",
    "depth_value = data_split['depth_value'].sum()\n",
    "\n",
    "print(f'Horizontal position: {hor_value}\\nDepth position: {depth_value}\\nH * D: {hor_value*depth_value}')"
   ]
  },
  {
   "cell_type": "code",
   "execution_count": 3,
   "metadata": {},
   "outputs": [
    {
     "name": "stdout",
     "output_type": "stream",
     "text": [
      "Horizontal position: 2018\n",
      "Depth position: 969300\n",
      "H * D: 1956047400\n"
     ]
    }
   ],
   "source": [
    "## Part 2\n",
    "data_split['aim'] = np.select(\n",
    "    [\n",
    "        data_split['direction'] == \"up\",\n",
    "        data_split['direction'] == \"down\",\n",
    "    ],\n",
    "    [\n",
    "        -data_split['step'],\n",
    "        data_split['step'],\n",
    "    ]\n",
    ")\n",
    "\n",
    "data_split['horizontal'] = np.select(\n",
    "    [\n",
    "        data_split['direction'] == \"forward\",\n",
    "    ],\n",
    "    [\n",
    "        data_split['step'],\n",
    "    ]\n",
    ")\n",
    "\n",
    "data_split['running_aim'] = data_split['aim'].cumsum()\n",
    "data_split['running_hor'] = data_split['horizontal'].cumsum()\n",
    "\n",
    "data_split['depth'] = np.select(\n",
    "    [\n",
    "        data_split['direction'] == \"forward\",\n",
    "    ],\n",
    "    [\n",
    "        data_split['horizontal'] * data_split['running_aim'],\n",
    "    ]\n",
    ")\n",
    "\n",
    "\n",
    "hor_value_2 = data_split['horizontal'].sum()\n",
    "depth_value_2 = data_split['depth'].sum()\n",
    "\n",
    "print(f'Horizontal position: {hor_value_2}\\nDepth position: {depth_value_2}\\nH * D: {hor_value_2*depth_value_2}')"
   ]
  }
 ],
 "metadata": {
  "kernelspec": {
   "display_name": "Python 3",
   "language": "python",
   "name": "python3"
  },
  "language_info": {
   "codemirror_mode": {
    "name": "ipython",
    "version": 3
   },
   "file_extension": ".py",
   "mimetype": "text/x-python",
   "name": "python",
   "nbconvert_exporter": "python",
   "pygments_lexer": "ipython3",
   "version": "3.8.5"
  }
 },
 "nbformat": 4,
 "nbformat_minor": 4
}
