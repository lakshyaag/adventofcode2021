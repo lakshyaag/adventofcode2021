{
 "cells": [
  {
   "cell_type": "code",
   "execution_count": 1,
   "metadata": {},
   "outputs": [],
   "source": [
    "import functools\n",
    "import collections as cl"
   ]
  },
  {
   "cell_type": "code",
   "execution_count": 2,
   "metadata": {},
   "outputs": [],
   "source": [
    "with open('day21.txt') as f:\n",
    "    lines = f.read().split('\\n')"
   ]
  },
  {
   "cell_type": "code",
   "execution_count": 3,
   "metadata": {},
   "outputs": [],
   "source": [
    "class Player:\n",
    "    def __init__(self, start_pos, id_):\n",
    "        self.id_ = id_\n",
    "        self.start_pos = start_pos\n",
    "        self.score = 0\n",
    "        self.pos = start_pos\n",
    "        self.score = 0\n",
    "        \n",
    "    def move(self, steps):\n",
    "#         print(f'Current position for {self.id_}: {self.pos}')\n",
    "        reduced_steps = reduce_10(steps)\n",
    "        if (self.pos + reduced_steps) > 10:\n",
    "            self.pos = (self.pos + reduced_steps - 10)\n",
    "        else:\n",
    "            self.pos = self.pos + reduced_steps\n",
    "        \n",
    "#         print(f'New position for {self.id_}: {self.pos}')\n",
    "        self.score += self.pos"
   ]
  },
  {
   "cell_type": "code",
   "execution_count": 4,
   "metadata": {},
   "outputs": [],
   "source": [
    "def reduce_10(roll):\n",
    "    return roll % 10\n",
    "\n",
    "def get_roll_deterministic(turn = 1):\n",
    "    return (turn + turn + 1 + turn + 2)"
   ]
  },
  {
   "cell_type": "code",
   "execution_count": 5,
   "metadata": {},
   "outputs": [],
   "source": [
    "p1 = Player(int(lines[0][-1]), 1)\n",
    "p2 = Player(int(lines[1][-1]), 2)"
   ]
  },
  {
   "cell_type": "markdown",
   "metadata": {},
   "source": [
    "# Part 1"
   ]
  },
  {
   "cell_type": "code",
   "execution_count": 6,
   "metadata": {},
   "outputs": [
    {
     "name": "stdout",
     "output_type": "stream",
     "text": [
      "Winner is: 1 with 747 rolls\n"
     ]
    }
   ],
   "source": [
    "for i, x in enumerate(range(1, 10000, 3), 1):\n",
    "    if i % 2 != 0:\n",
    "        p1.move(get_roll_deterministic(x))\n",
    "        # print(f'Score for P1: {p1.score}')\n",
    "    else:\n",
    "        p2.move(get_roll_deterministic(x))\n",
    "        # print(f'Score for P2: {p2.score}')\n",
    "        \n",
    "    if p1.score >= 1000 or p2.score >= 1000:\n",
    "        roll_counter = i * 3\n",
    "        winner = 1 if p1.score >= 1000 else 2\n",
    "        print(f'Winner is: {winner} with {roll_counter} rolls')\n",
    "        break"
   ]
  },
  {
   "cell_type": "code",
   "execution_count": 7,
   "metadata": {},
   "outputs": [
    {
     "name": "stdout",
     "output_type": "stream",
     "text": [
      "Part 1: 518418\n"
     ]
    }
   ],
   "source": [
    "print(f'Part 1: {roll_counter * p2.score if winner == 1 else roll_counter * p1.score}')"
   ]
  },
  {
   "cell_type": "markdown",
   "metadata": {},
   "source": [
    "# Part 2"
   ]
  },
  {
   "cell_type": "code",
   "execution_count": 8,
   "metadata": {},
   "outputs": [
    {
     "data": {
      "text/plain": [
       "Counter({3: 1, 4: 3, 5: 6, 6: 7, 7: 6, 8: 3, 9: 1})"
      ]
     },
     "execution_count": 8,
     "metadata": {},
     "output_type": "execute_result"
    }
   ],
   "source": [
    "possible_rolls = cl.Counter(\n",
    "    r1 + r2 + r3\n",
    "        for r1 in range(1,4)\n",
    "        for r2 in range(1,4)\n",
    "        for r3 in range(1,4)\n",
    ")\n",
    "\n",
    "possible_rolls"
   ]
  },
  {
   "cell_type": "code",
   "execution_count": 9,
   "metadata": {},
   "outputs": [],
   "source": [
    "universes = {}\n",
    "\n",
    "@functools.lru_cache()\n",
    "def play(p1_pos, p2_pos, score1=0, score2=0):\n",
    "    \n",
    "    if score1 >= 21 or score2 >= 21:\n",
    "        return (score1 >= 21, score2 >= 21)\n",
    "\n",
    "    if (p1_pos, p2_pos, score1, score2) not in universes:\n",
    "        \n",
    "        w1, w2 = 0, 0\n",
    "        \n",
    "        for roll, frequency in possible_rolls.items():\n",
    "            _p1_pos = reduce_10(p1_pos + roll)\n",
    "            _w1, _w2 = play(p2_pos, _p1_pos, score2, score1 + _p1_pos + 1)\n",
    "            w1, w2 = w1 + _w2*frequency, w2 + _w1*frequency\n",
    "\n",
    "        universes[p1_pos, p2_pos, score1, score2] = (w1, w2)\n",
    "\n",
    "    return universes[p1_pos, p2_pos, score1, score2]"
   ]
  },
  {
   "cell_type": "code",
   "execution_count": 10,
   "metadata": {},
   "outputs": [
    {
     "name": "stdout",
     "output_type": "stream",
     "text": [
      "Part 2: 116741133558209\n"
     ]
    }
   ],
   "source": [
    "print(f\"Part 2: {max(play(p1.start_pos - 1, p2.start_pos - 1))}\")"
   ]
  }
 ],
 "metadata": {
  "kernelspec": {
   "display_name": "Python 3",
   "language": "python",
   "name": "python3"
  },
  "language_info": {
   "codemirror_mode": {
    "name": "ipython",
    "version": 3
   },
   "file_extension": ".py",
   "mimetype": "text/x-python",
   "name": "python",
   "nbconvert_exporter": "python",
   "pygments_lexer": "ipython3",
   "version": "3.8.5"
  }
 },
 "nbformat": 4,
 "nbformat_minor": 4
}
