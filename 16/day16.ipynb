{
 "cells": [
  {
   "cell_type": "code",
   "execution_count": 1,
   "metadata": {},
   "outputs": [],
   "source": [
    "import math"
   ]
  },
  {
   "cell_type": "code",
   "execution_count": 2,
   "metadata": {},
   "outputs": [],
   "source": [
    "def process_binary(binary_stream):\n",
    "    global sum_version\n",
    "    \n",
    "    version = int(binary_stream[:3],2)\n",
    "    type_id = int(binary_stream[3:6], 2)\n",
    "    binary_stream = binary_stream[6:]\n",
    "    \n",
    "    sum_version += version\n",
    "    \n",
    "    length_tid = None\n",
    "    \n",
    "    value = 0\n",
    "    \n",
    "    if type_id == 4:\n",
    "        value, binary_stream = parse_4(binary_stream)\n",
    "        \n",
    "    elif type_id != 4:\n",
    "        length_tid = int(binary_stream[0])\n",
    "        binary_stream = binary_stream[1:]\n",
    "        if length_tid == 0:\n",
    "            value, binary_stream = parse_0(type_id, binary_stream)\n",
    "        elif length_tid == 1:\n",
    "            value, binary_stream = parse_1(type_id, binary_stream)\n",
    "    \n",
    "    return value, binary_stream"
   ]
  },
  {
   "cell_type": "code",
   "execution_count": 3,
   "metadata": {},
   "outputs": [],
   "source": [
    "def parse_4(bin_stream):\n",
    "    result = ''\n",
    "    while True:        \n",
    "        bit_group = bin_stream[:5]\n",
    "        result += bit_group[1:]\n",
    "        bin_stream = bin_stream[5:]\n",
    "        \n",
    "        if bit_group[0] == '0':\n",
    "            break       \n",
    "        \n",
    "    return int(result, 2), bin_stream"
   ]
  },
  {
   "cell_type": "code",
   "execution_count": 4,
   "metadata": {},
   "outputs": [],
   "source": [
    "def parse_0(type_id, bin_stream):\n",
    "    length_packet = int(bin_stream[:15], 2)\n",
    "    bin_stream = bin_stream[15:]\n",
    "    \n",
    "    vals = []\n",
    "    while length_packet:\n",
    "        packet_len = len(bin_stream)\n",
    "        val, bin_stream = process_binary(bin_stream)\n",
    "        vals.append(val)\n",
    "        length_packet -= (packet_len - len(bin_stream))\n",
    "        \n",
    "    return calculate_value(type_id, vals), bin_stream"
   ]
  },
  {
   "cell_type": "code",
   "execution_count": 5,
   "metadata": {},
   "outputs": [],
   "source": [
    "def parse_1(type_id, bin_stream):\n",
    "    num_packets = int(bin_stream[:11], 2)\n",
    "    bin_stream = bin_stream[11:]\n",
    "    \n",
    "    vals = []\n",
    "    for i in range(num_packets):\n",
    "        val, bin_stream = process_binary(bin_stream)\n",
    "        vals.append(val)\n",
    "        \n",
    "    return calculate_value(type_id, vals), bin_stream"
   ]
  },
  {
   "cell_type": "code",
   "execution_count": 6,
   "metadata": {},
   "outputs": [],
   "source": [
    "def calculate_value(type_id, vals):\n",
    "    switch_dict = {\n",
    "        0: sum(vals),\n",
    "        1: math.prod(vals),\n",
    "        2: min(vals),\n",
    "        3: max(vals),\n",
    "        5: 1 if len(vals) == 2 and vals[0] > vals[1] else 0,\n",
    "        6: 1 if len(vals) == 2 and vals[0] < vals[1] else 0,\n",
    "        7: 1 if len(vals) == 2 and vals[0] == vals[1] else 0,\n",
    "    }\n",
    "    return switch_dict.get(type_id)"
   ]
  },
  {
   "cell_type": "code",
   "execution_count": 7,
   "metadata": {},
   "outputs": [],
   "source": [
    "hex_str = open('day16.txt').read().strip()"
   ]
  },
  {
   "cell_type": "code",
   "execution_count": 8,
   "metadata": {},
   "outputs": [],
   "source": [
    "bin_str = bin(int(hex_str, 16))[2:]\n",
    "\n",
    "while len(bin_str) < 4 * len(hex_str):\n",
    "    bin_str = '0' + bin_str"
   ]
  },
  {
   "cell_type": "code",
   "execution_count": 9,
   "metadata": {},
   "outputs": [],
   "source": [
    "sum_version = 0"
   ]
  },
  {
   "cell_type": "code",
   "execution_count": 10,
   "metadata": {},
   "outputs": [],
   "source": [
    "part2 = process_binary(bin_str)[0]"
   ]
  },
  {
   "cell_type": "code",
   "execution_count": 11,
   "metadata": {},
   "outputs": [
    {
     "name": "stdout",
     "output_type": "stream",
     "text": [
      "Part 1: 895\n"
     ]
    }
   ],
   "source": [
    "# Part 1\n",
    "print(f'Part 1: {sum_version}')"
   ]
  },
  {
   "cell_type": "code",
   "execution_count": 12,
   "metadata": {},
   "outputs": [
    {
     "name": "stdout",
     "output_type": "stream",
     "text": [
      "Part 2: 1148595959144\n"
     ]
    }
   ],
   "source": [
    "# Part 2\n",
    "print(f'Part 2: {part2}')"
   ]
  }
 ],
 "metadata": {
  "kernelspec": {
   "display_name": "Python 3",
   "language": "python",
   "name": "python3"
  },
  "language_info": {
   "codemirror_mode": {
    "name": "ipython",
    "version": 3
   },
   "file_extension": ".py",
   "mimetype": "text/x-python",
   "name": "python",
   "nbconvert_exporter": "python",
   "pygments_lexer": "ipython3",
   "version": "3.8.5"
  }
 },
 "nbformat": 4,
 "nbformat_minor": 4
}
